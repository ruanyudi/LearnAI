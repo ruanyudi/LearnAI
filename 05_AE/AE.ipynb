{
 "cells": [
  {
   "cell_type": "code",
   "execution_count": 124,
   "metadata": {},
   "outputs": [],
   "source": [
    "# import the relatives \n",
    "import torch\n",
    "import random\n",
    "import torchvision\n",
    "from torch.utils.data import DataLoader\n",
    "from torchvision import transforms as T\n",
    "import matplotlib.pyplot as plt\n",
    "from torch import nn\n",
    "from tqdm import tqdm"
   ]
  },
  {
   "cell_type": "code",
   "execution_count": 87,
   "metadata": {},
   "outputs": [],
   "source": [
    "dataTransforms = T.Compose([\n",
    "    T.Resize(64),\n",
    "    T.RandomRotation(120),\n",
    "    T.ToTensor(),\n",
    "    T.Normalize(0.5,0.5)\n",
    "])"
   ]
  },
  {
   "cell_type": "code",
   "execution_count": 215,
   "metadata": {},
   "outputs": [],
   "source": [
    "#prepare the data\n",
    "dataset = torchvision.datasets.FashionMNIST('./data_set',download=True,transform=dataTransforms,train=True)\n",
    "traindataLoader = DataLoader(dataset=dataset,shuffle=False,batch_size=128)"
   ]
  },
  {
   "cell_type": "code",
   "execution_count": 9,
   "metadata": {},
   "outputs": [],
   "source": [
    "#Setup the Loss function\n",
    "def loss_fn(pred,groundTruth):\n",
    "    #(Batch_size*channel*Height*Width)\n",
    "    return torch.abs(pred-groundTruth).flatten(0).mean()"
   ]
  },
  {
   "cell_type": "code",
   "execution_count": 47,
   "metadata": {},
   "outputs": [],
   "source": [
    "#Setup the Model\n",
    "class AutoEncoder(nn.Module):\n",
    "    def __init__(self,in_channels):\n",
    "        super().__init__()\n",
    "        expansion = 1\n",
    "        self.DownSampling = nn.Sequential(\n",
    "            # b*c*64*64\n",
    "            nn.Conv2d(in_channels,64*expansion,kernel_size=3,padding=1,stride=2), #32\n",
    "            nn.ReLU(),\n",
    "            nn.Conv2d(64*expansion,128*expansion,kernel_size=3,padding=1,stride=2), #16\n",
    "            nn.BatchNorm2d(128*expansion),\n",
    "            nn.ReLU(),\n",
    "            nn.Conv2d(128*expansion,256*expansion,kernel_size=3,padding=1,stride=2), #8\n",
    "            nn.BatchNorm2d(256*expansion),\n",
    "            nn.ReLU(),\n",
    "            nn.Conv2d(256*expansion,512*expansion,kernel_size=3,padding=1,stride=2), #4\n",
    "            nn.ReLU(),\n",
    "        )\n",
    "        self.UpSampling = nn.Sequential(\n",
    "            #b*512*expansion*4*4\n",
    "            nn.ConvTranspose2d(512*expansion,256*expansion,kernel_size=4,padding=1,stride=2),\n",
    "            nn.ReLU(),\n",
    "            nn.ConvTranspose2d(256*expansion,128*expansion,kernel_size=4,padding=1,stride=2),\n",
    "            nn.BatchNorm2d(128*expansion),\n",
    "            nn.ReLU(),\n",
    "            nn.ConvTranspose2d(128*expansion,64*expansion,kernel_size=4,padding=1,stride=2),\n",
    "            nn.BatchNorm2d(64*expansion),\n",
    "            nn.ReLU(),\n",
    "            nn.ConvTranspose2d(64*expansion,in_channels,kernel_size=4,padding=1,stride=2),\n",
    "            nn.Tanh()\n",
    "        )\n",
    "    def forward(self,x):\n",
    "        return self.UpSampling(self.DownSampling(x))"
   ]
  },
  {
   "cell_type": "code",
   "execution_count": 252,
   "metadata": {},
   "outputs": [],
   "source": [
    "#prepare the training\n",
    "device = 'cuda' if torch.cuda.is_available() else 'cpu'\n",
    "# dummy_input = torch.randn((128,1,64,64),device=device)\n",
    "model = AutoEncoder(in_channels=1).to(device)\n",
    "epochs = 10\n",
    "fix_test = next(iter(traindataLoader))[0].to(device)"
   ]
  },
  {
   "cell_type": "code",
   "execution_count": 255,
   "metadata": {},
   "outputs": [],
   "source": [
    "def train(epochs):\n",
    "    optimizer = torch.optim.SGD(model.parameters(),lr=0.0001)\n",
    "    for epoch in range(epochs):\n",
    "        epoch_loss = 0 \n",
    "        count = len(traindataLoader)\n",
    "        for step,data in tqdm(enumerate(traindataLoader)):\n",
    "            features = data[0].to(device)\n",
    "            loss = loss_fn(model(features),features)\n",
    "            epoch_loss +=loss\n",
    "            optimizer.zero_grad()\n",
    "            loss.backward()\n",
    "            optimizer.step()\n",
    "        print(f\"Epoch : {epoch} | Loss : {epoch_loss/count}\")"
   ]
  },
  {
   "cell_type": "code",
   "execution_count": 257,
   "metadata": {},
   "outputs": [
    {
     "name": "stderr",
     "output_type": "stream",
     "text": [
      "469it [00:18, 25.82it/s]\n"
     ]
    },
    {
     "name": "stdout",
     "output_type": "stream",
     "text": [
      "Epoch : 0 | Loss : 0.13663692772388458\n"
     ]
    },
    {
     "name": "stderr",
     "output_type": "stream",
     "text": [
      "216it [00:08, 25.48it/s]"
     ]
    }
   ],
   "source": [
    "train(epochs)"
   ]
  },
  {
   "cell_type": "code",
   "execution_count": 250,
   "metadata": {},
   "outputs": [
    {
     "data": {
      "image/png": "[encoded data removed]",
      "text/plain": [
       "<Figure size 200x200 with 2 Axes>"
      ]
     },
     "metadata": {},
     "output_type": "display_data"
    }
   ],
   "source": [
    "def show_img(model):\n",
    "    index = random.randint(0,127)\n",
    "    origin_img = torch.permute(fix_test[index],(1,2,0)).detach().cpu().numpy()\n",
    "    reconstruct_img = model(fix_test[index].unsqueeze(0)).squeeze(0).permute((1,2,0)).detach().cpu().numpy()\n",
    "    plt.figure(figsize=(2,2))\n",
    "    plt.subplot(2,2,1)\n",
    "    plt.imshow(origin_img)\n",
    "    plt.subplot(2,2,2)\n",
    "    plt.imshow(reconstruct_img)\n",
    "    plt.show()\n",
    "show_img(model)"
   ]
  }
 ],
 "metadata": {
  "kernelspec": {
   "display_name": "devel",
   "language": "python",
   "name": "python3"
  },
  "language_info": {
   "codemirror_mode": {
    "name": "ipython",
    "version": 3
   },
   "file_extension": ".py",
   "mimetype": "text/x-python",
   "name": "python",
   "nbconvert_exporter": "python",
   "pygments_lexer": "ipython3",
   "version": "3.9.16"
  },
  "orig_nbformat": 4
 },
 "nbformat": 4,
 "nbformat_minor": 2
}
